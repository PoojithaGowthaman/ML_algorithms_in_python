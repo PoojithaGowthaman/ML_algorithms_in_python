{
 "cells": [
  {
   "cell_type": "markdown",
   "metadata": {},
   "source": [
    "## Linear Regression\n"
   ]
  },
  {
   "cell_type": "markdown",
   "metadata": {},
   "source": [
    "* We assume a linear relationship between the predictors and the response variable we are trying to predict.\n",
    "\n",
    "* p-value : the probability at which an observed difference could have occurred by just random chance.\n",
    "\n",
    "* Lower the p-value, the more important is the variable at predicting the response variable. In common terms, the let's say we are trying to see if square area is an important predictor for the price of the house. The square_area variable follows some probability distribution, most easily the standard normal. We have most of the values in the high density area of the distribution and few values on the tails. \n",
    "\n",
    "\n",
    "* The lower the p-value, the greater the statistical significance of the observed difference.\n",
    "\n",
    "\n",
    "**MORE TO FOLLOW**\n",
    "\n"
   ]
  },
  {
   "cell_type": "code",
   "execution_count": 124,
   "metadata": {},
   "outputs": [],
   "source": [
    "import random as random"
   ]
  },
  {
   "cell_type": "code",
   "execution_count": 125,
   "metadata": {},
   "outputs": [],
   "source": [
    "# Main function\n",
    "def linear_regression(x,y, iterations = 100, learning_rate = 0.01):\n",
    "    n,m = len(x[0]), len(x)\n",
    "    beta_0, beta_i = initialize_params(n)\n",
    "    for i in range(iterations):\n",
    "        gradiant_beta_0, gradient_beta_i = compute_gradient(\n",
    "        x, y, beta_0, beta_i, n, m)\n",
    "        \n",
    "        beta_0, beta_i = update_params(\n",
    "        beta_0, beta_i, gradient_beta_0, gradient_beta_i,learning_rate)\n",
    "        \n",
    "        return beta_0, beta_i\n",
    "\n",
    "    \n",
    "# setting up initial parameters\n",
    "def initialize_params(dimensions):\n",
    "    beta_0 = 0\n",
    "    beta_i = [random.random() for i in range(dimensions)]\n",
    "    return beta_0, beta_i \n",
    "\n",
    "# computing the gradients and coefficients \n",
    "\n",
    "def compute_gradient(x,y,beta_0, beta_i, dimensions, m):\n",
    "    gradient_beta_0, gradient_beta_i = 0, [0]*dimensions\n",
    "    \n",
    "    for i in range(m):\n",
    "        y_i_predicted = sum(x[i][j] * beta_i[j]\n",
    "                           for j in range(dimensions)) + beta_0\n",
    "        derror_dy = 2 * (float(y[i]) - float(y_i_predicted))\n",
    "        \n",
    "        for j in range(dimensions):\n",
    "            gradient_beta_0 += derror_dy/n # gradient of average over all data points\n",
    "            \n",
    "    return gradient_beta_0, gradient_beta_i\n",
    "# update parameters\n",
    "\n",
    "def update_params(beta_0, beta_i, gradient_beta_0, gradient_beta_i, learning_rate):\n",
    "    beta_0 += gradient_beta_0 * learning_rate\n",
    "    \n",
    "    for i in range(len(beta_i)):\n",
    "        beta_i[i] += (gradient_beta_i[i])*learning_rate\n",
    "        return beta_0, beta_i\n",
    "    \n",
    "    "
   ]
  },
  {
   "cell_type": "code",
   "execution_count": 126,
   "metadata": {},
   "outputs": [],
   "source": [
    " n,m = len(df[['Height','Weight']].to_numpy()),len(df['Gender'])"
   ]
  },
  {
   "cell_type": "code",
   "execution_count": 127,
   "metadata": {},
   "outputs": [
    {
     "data": {
      "text/plain": [
       "array([[ 1.94396429,  2.50567168],\n",
       "       [ 0.6275053 ,  0.02709928],\n",
       "       [ 2.01234283,  1.59772634],\n",
       "       ...,\n",
       "       [-0.64965543, -1.02667831],\n",
       "       [ 0.69309003,  0.07512369],\n",
       "       [-1.14965082, -1.48843281]])"
      ]
     },
     "execution_count": 127,
     "metadata": {},
     "output_type": "execute_result"
    }
   ],
   "source": [
    "[df[['Height','Weight']].to_numpy()][0]"
   ]
  },
  {
   "cell_type": "markdown",
   "metadata": {},
   "source": [
    "# sample code "
   ]
  },
  {
   "cell_type": "code",
   "execution_count": 102,
   "metadata": {},
   "outputs": [
    {
     "data": {
      "text/html": [
       "<div>\n",
       "<style scoped>\n",
       "    .dataframe tbody tr th:only-of-type {\n",
       "        vertical-align: middle;\n",
       "    }\n",
       "\n",
       "    .dataframe tbody tr th {\n",
       "        vertical-align: top;\n",
       "    }\n",
       "\n",
       "    .dataframe thead th {\n",
       "        text-align: right;\n",
       "    }\n",
       "</style>\n",
       "<table border=\"1\" class=\"dataframe\">\n",
       "  <thead>\n",
       "    <tr style=\"text-align: right;\">\n",
       "      <th></th>\n",
       "      <th>Gender</th>\n",
       "      <th>Height</th>\n",
       "      <th>Weight</th>\n",
       "    </tr>\n",
       "  </thead>\n",
       "  <tbody>\n",
       "    <tr>\n",
       "      <th>0</th>\n",
       "      <td>Male</td>\n",
       "      <td>73.847017</td>\n",
       "      <td>241.893563</td>\n",
       "    </tr>\n",
       "    <tr>\n",
       "      <th>1</th>\n",
       "      <td>Male</td>\n",
       "      <td>68.781904</td>\n",
       "      <td>162.310473</td>\n",
       "    </tr>\n",
       "    <tr>\n",
       "      <th>2</th>\n",
       "      <td>Male</td>\n",
       "      <td>74.110105</td>\n",
       "      <td>212.740856</td>\n",
       "    </tr>\n",
       "    <tr>\n",
       "      <th>3</th>\n",
       "      <td>Male</td>\n",
       "      <td>71.730978</td>\n",
       "      <td>220.042470</td>\n",
       "    </tr>\n",
       "    <tr>\n",
       "      <th>4</th>\n",
       "      <td>Male</td>\n",
       "      <td>69.881796</td>\n",
       "      <td>206.349801</td>\n",
       "    </tr>\n",
       "  </tbody>\n",
       "</table>\n",
       "</div>"
      ],
      "text/plain": [
       "  Gender     Height      Weight\n",
       "0   Male  73.847017  241.893563\n",
       "1   Male  68.781904  162.310473\n",
       "2   Male  74.110105  212.740856\n",
       "3   Male  71.730978  220.042470\n",
       "4   Male  69.881796  206.349801"
      ]
     },
     "execution_count": 102,
     "metadata": {},
     "output_type": "execute_result"
    }
   ],
   "source": [
    "df = pd.read_csv(\"https://raw.githubusercontent.com/Baakchsu/LinearRegression/master/weight-height.csv\")\n",
    "df.head()"
   ]
  },
  {
   "cell_type": "code",
   "execution_count": 103,
   "metadata": {},
   "outputs": [],
   "source": [
    "# trying to encode\n",
    "df[\"Gender\"] = df[\"Gender\"].astype('category')\n",
    "df[\"Gender\"] = df[\"Gender\"].cat.codes\n"
   ]
  },
  {
   "cell_type": "code",
   "execution_count": 104,
   "metadata": {},
   "outputs": [],
   "source": [
    "df['Weight']= (df['Weight']-df['Weight'].mean())/df['Weight'].std() #standardization of the dataset\n",
    "df['Height'] = (df['Height']-df['Height'].mean())/df['Height'].std() #standardization of the dataset"
   ]
  },
  {
   "cell_type": "code",
   "execution_count": 105,
   "metadata": {},
   "outputs": [
    {
     "name": "stdout",
     "output_type": "stream",
     "text": [
      "2 10000\n"
     ]
    },
    {
     "ename": "NameError",
     "evalue": "name 'n' is not defined",
     "output_type": "error",
     "traceback": [
      "\u001b[0;31m---------------------------------------------------------------------------\u001b[0m",
      "\u001b[0;31mNameError\u001b[0m                                 Traceback (most recent call last)",
      "\u001b[0;32m<ipython-input-105-7678bf05f0c4>\u001b[0m in \u001b[0;36m<module>\u001b[0;34m\u001b[0m\n\u001b[0;32m----> 1\u001b[0;31m \u001b[0mlinear_regression\u001b[0m\u001b[0;34m(\u001b[0m\u001b[0mdf\u001b[0m\u001b[0;34m[\u001b[0m\u001b[0;34m[\u001b[0m\u001b[0;34m'Height'\u001b[0m\u001b[0;34m,\u001b[0m\u001b[0;34m'Weight'\u001b[0m\u001b[0;34m]\u001b[0m\u001b[0;34m]\u001b[0m\u001b[0;34m.\u001b[0m\u001b[0mto_numpy\u001b[0m\u001b[0;34m(\u001b[0m\u001b[0;34m)\u001b[0m\u001b[0;34m,\u001b[0m\u001b[0mdf\u001b[0m\u001b[0;34m[\u001b[0m\u001b[0;34m'Gender'\u001b[0m\u001b[0;34m]\u001b[0m\u001b[0;34m.\u001b[0m\u001b[0mto_numpy\u001b[0m\u001b[0;34m(\u001b[0m\u001b[0;34m)\u001b[0m\u001b[0;34m)\u001b[0m\u001b[0;34m\u001b[0m\u001b[0;34m\u001b[0m\u001b[0m\n\u001b[0m",
      "\u001b[0;32m<ipython-input-101-ab9d577aae6b>\u001b[0m in \u001b[0;36mlinear_regression\u001b[0;34m(x, y, iterations, learning_rate)\u001b[0m\n\u001b[1;32m      5\u001b[0m     \u001b[0mbeta_0\u001b[0m\u001b[0;34m,\u001b[0m \u001b[0mbeta_i\u001b[0m \u001b[0;34m=\u001b[0m \u001b[0minitialize_params\u001b[0m\u001b[0;34m(\u001b[0m\u001b[0mn\u001b[0m\u001b[0;34m)\u001b[0m\u001b[0;34m\u001b[0m\u001b[0;34m\u001b[0m\u001b[0m\n\u001b[1;32m      6\u001b[0m     \u001b[0;32mfor\u001b[0m \u001b[0mi\u001b[0m \u001b[0;32min\u001b[0m \u001b[0mrange\u001b[0m\u001b[0;34m(\u001b[0m\u001b[0miterations\u001b[0m\u001b[0;34m)\u001b[0m\u001b[0;34m:\u001b[0m\u001b[0;34m\u001b[0m\u001b[0;34m\u001b[0m\u001b[0m\n\u001b[0;32m----> 7\u001b[0;31m         gradiant_beta_0, gradient_beta_i = compute_gradient(\n\u001b[0m\u001b[1;32m      8\u001b[0m         x, y, beta_0, beta_i, n, m)\n\u001b[1;32m      9\u001b[0m \u001b[0;34m\u001b[0m\u001b[0m\n",
      "\u001b[0;32m<ipython-input-101-ab9d577aae6b>\u001b[0m in \u001b[0;36mcompute_gradient\u001b[0;34m(x, y, beta_0, beta_i, dimensions, m)\u001b[0m\n\u001b[1;32m     31\u001b[0m \u001b[0;34m\u001b[0m\u001b[0m\n\u001b[1;32m     32\u001b[0m         \u001b[0;32mfor\u001b[0m \u001b[0mj\u001b[0m \u001b[0;32min\u001b[0m \u001b[0mrange\u001b[0m\u001b[0;34m(\u001b[0m\u001b[0mdimensions\u001b[0m\u001b[0;34m)\u001b[0m\u001b[0;34m:\u001b[0m\u001b[0;34m\u001b[0m\u001b[0;34m\u001b[0m\u001b[0m\n\u001b[0;32m---> 33\u001b[0;31m             \u001b[0mgradient_beta_0\u001b[0m \u001b[0;34m+=\u001b[0m \u001b[0mderror_dy\u001b[0m\u001b[0;34m/\u001b[0m\u001b[0mn\u001b[0m \u001b[0;31m# gradient of average over all data points\u001b[0m\u001b[0;34m\u001b[0m\u001b[0;34m\u001b[0m\u001b[0m\n\u001b[0m\u001b[1;32m     34\u001b[0m \u001b[0;34m\u001b[0m\u001b[0m\n\u001b[1;32m     35\u001b[0m     \u001b[0;32mreturn\u001b[0m \u001b[0mgradient_beta_0\u001b[0m\u001b[0;34m,\u001b[0m \u001b[0mgradient_beta_i\u001b[0m\u001b[0;34m\u001b[0m\u001b[0;34m\u001b[0m\u001b[0m\n",
      "\u001b[0;31mNameError\u001b[0m: name 'n' is not defined"
     ]
    }
   ],
   "source": [
    "linear_regression(df[['Height','Weight']].to_numpy(),df['Gender'].to_numpy())"
   ]
  },
  {
   "cell_type": "code",
   "execution_count": null,
   "metadata": {},
   "outputs": [],
   "source": []
  },
  {
   "cell_type": "code",
   "execution_count": null,
   "metadata": {},
   "outputs": [],
   "source": []
  }
 ],
 "metadata": {
  "kernelspec": {
   "display_name": "Python 3",
   "language": "python",
   "name": "python3"
  },
  "language_info": {
   "codemirror_mode": {
    "name": "ipython",
    "version": 3
   },
   "file_extension": ".py",
   "mimetype": "text/x-python",
   "name": "python",
   "nbconvert_exporter": "python",
   "pygments_lexer": "ipython3",
   "version": "3.8.3"
  }
 },
 "nbformat": 4,
 "nbformat_minor": 4
}
